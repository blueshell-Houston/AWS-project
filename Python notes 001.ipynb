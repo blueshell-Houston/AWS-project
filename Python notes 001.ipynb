{
 "cells": [
  {
   "cell_type": "code",
   "execution_count": 2,
   "metadata": {},
   "outputs": [
    {
     "name": "stdout",
     "output_type": "stream",
     "text": [
      "Hello Eric\n"
     ]
    }
   ],
   "source": [
    "print ('Hello Eric')"
   ]
  },
  {
   "cell_type": "code",
   "execution_count": 3,
   "metadata": {},
   "outputs": [
    {
     "name": "stdout",
     "output_type": "stream",
     "text": [
      "Hello, World!\n"
     ]
    }
   ],
   "source": [
    "\"\"\"This is a \n",
    "multiline docstring.\"\"\"\n",
    "print(\"Hello, World!\")"
   ]
  },
  {
   "cell_type": "code",
   "execution_count": 4,
   "metadata": {},
   "outputs": [],
   "source": [
    "\"\"\"Variables\n",
    "@see: https://docs.python.org/3/tutorial/introduction.html\n",
    "@see: https://www.w3schools.com/python/python_variables.asp\n",
    "@see: https://www.learnpython.org/en/Variables_and_Types\n",
    "Python is completely object oriented, and not \"statically typed\".\n",
    "You do not need to declare variables before using them, or declare\n",
    "their type. Every variable in Python is an object.\n",
    "Unlike other programming languages, Python has no command for\n",
    "declaring a variable. A variable is created the moment you first assign\n",
    "a value to it.\n",
    "A variable can have a short name (like x and y) or a more descriptive name\n",
    "(age, carname, total_volume).\n",
    "Rules for Python variables:\n",
    "- A variable name must start with a letter or the underscore character.\n",
    "- A variable name cannot start with a number.\n",
    "- A variable name can only contain alpha-numeric characters and underscores (A-z, 0-9, and _ ).\n",
    "- Variable names are case-sensitive (age, Age and AGE are three different variables).\n",
    "\"\"\"\n",
    "\n",
    "\n",
    "def test_variables():\n",
    "    \"\"\"Test variables\"\"\"\n",
    "\n",
    "    integer_variable = 5\n",
    "    string_variable = 'John'\n",
    "\n",
    "    assert integer_variable == 5\n",
    "    assert string_variable == 'John'\n",
    "\n",
    "    variable_with_changed_type = 4  # x is of type int\n",
    "    variable_with_changed_type = 'Sally'  # x is now of type str\n",
    "\n",
    "    assert variable_with_changed_type == 'Sally'"
   ]
  },
  {
   "cell_type": "code",
   "execution_count": 7,
   "metadata": {},
   "outputs": [],
   "source": [
    "def test_bitwise_operators():\n",
    "    \"\"\"Bitwise operators\"\"\"\n",
    "\n",
    "    # AND\n",
    "    # Sets each bit to 1 if both bits are 1.\n",
    "    #\n",
    "    # Example:\n",
    "    # 5 = 0b0101\n",
    "    # 3 = 0b0011\n",
    "    assert 5 & 3 == 1  # 0b0001\n",
    "\n",
    "    # OR\n",
    "    # Sets each bit to 1 if one of two bits is 1.\n",
    "    #\n",
    "    # Example:\n",
    "    # 5 = 0b0101\n",
    "    # 3 = 0b0011\n",
    "    assert 5 | 3 == 7  # 0b0111\n",
    "\n",
    "    # NOT\n",
    "    # Inverts all the bits.\n",
    "    assert ~5 == 5"
   ]
  },
  {
   "cell_type": "code",
   "execution_count": null,
   "metadata": {},
   "outputs": [],
   "source": []
  }
 ],
 "metadata": {
  "kernelspec": {
   "display_name": "Python 3",
   "language": "python",
   "name": "python3"
  },
  "language_info": {
   "codemirror_mode": {
    "name": "ipython",
    "version": 3
   },
   "file_extension": ".py",
   "mimetype": "text/x-python",
   "name": "python",
   "nbconvert_exporter": "python",
   "pygments_lexer": "ipython3",
   "version": "3.7.3"
  }
 },
 "nbformat": 4,
 "nbformat_minor": 2
}
